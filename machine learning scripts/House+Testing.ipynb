{
 "cells": [
  {
   "cell_type": "code",
   "execution_count": 1,
   "metadata": {
    "collapsed": false
   },
   "outputs": [],
   "source": [
    "#this script was an attempt to predict house prices based on given observations and various learning algorithms we trained\n",
    "#on a given dataset \n",
    "#this was my final project for machine lear\n",
    "\n",
    "import pandas as pd\n",
    "trainingData = pd.read_csv('finalData.csv', low_memory=False)"
   ]
  },
  {
   "cell_type": "code",
   "execution_count": 2,
   "metadata": {
    "collapsed": true
   },
   "outputs": [],
   "source": [
    "#get target\n",
    "data = pd.read_csv('houseTrain.csv', low_memory=False)\n",
    "targetData = data.drop(['Id','Alley','PoolQC','Fence','MiscFeature','LowQualFinSF','EnclosedPorch','3SsnPorch','ScreenPorch','PoolArea'],1)\n",
    "targetData = targetData.dropna()\n",
    "targetData.reset_index(inplace=True)\n",
    "target = targetData[\"SalePrice\"]"
   ]
  },
  {
   "cell_type": "code",
   "execution_count": 3,
   "metadata": {
    "collapsed": true
   },
   "outputs": [],
   "source": [
    "#train test split \n",
    "#here is where we tried different split sizes to get the best results\n",
    "from sklearn.cross_validation import train_test_split\n",
    "x_train, x_test, y_train, y_test = train_test_split(trainingData,target,test_size=.057,random_state=4)"
   ]
  },
  {
   "cell_type": "code",
   "execution_count": 4,
   "metadata": {
    "collapsed": true
   },
   "outputs": [],
   "source": [
    "from sklearn.preprocessing import PolynomialFeatures\n",
    "from sklearn import linear_model\n",
    "from sklearn import metrics"
   ]
  },
  {
   "cell_type": "code",
   "execution_count": 5,
   "metadata": {
    "collapsed": false
   },
   "outputs": [
    {
     "name": "stdout",
     "output_type": "stream",
     "text": [
      "Polynomial Features:  1 R2 Score:  0.60291492666\n",
      "Polynomial Features:  2 R2 Score:  -3.24087443889\n",
      "Polynomial Features:  3 R2 Score:  0.263873050591\n"
     ]
    }
   ],
   "source": [
    "#try different Polynomial Feature sizes\n",
    "#anything over 3 would crash\n",
    "for i in range (1,4):\n",
    "    X = PolynomialFeatures(i).fit_transform(x_train)\n",
    "    pred = PolynomialFeatures(i).fit_transform(x_test)\n",
    "    clf = linear_model.LinearRegression()\n",
    "    clf.fit(X, y_train)\n",
    "    print('Polynomial Features: ', i, 'R2 Score: ', metrics.r2_score(y_test, clf.predict(pred)))"
   ]
  },
  {
   "cell_type": "code",
   "execution_count": 6,
   "metadata": {
    "collapsed": true
   },
   "outputs": [],
   "source": [
    "from sklearn.svm import SVR\n",
    "import matplotlib.pyplot as plt"
   ]
  },
  {
   "cell_type": "code",
   "execution_count": 7,
   "metadata": {
    "collapsed": false
   },
   "outputs": [
    {
     "name": "stdout",
     "output_type": "stream",
     "text": [
      "RBF:  R2 Score:  -0.101297469038\n"
     ]
    }
   ],
   "source": [
    "#try 3 different SVR model kernels\n",
    "#for some reason the linear and poly kernel could never finish running\n",
    "svr_rbf = SVR(kernel='rbf', C=1e3, gamma=.3)\n",
    "svr_lin = SVR(kernel='linear', C=1e3)\n",
    "svr_poly = SVR(kernel='poly', C=1e3, degree=2)\n",
    "print('RBF: ', 'R2 Score: ', metrics.r2_score(y_test, svr_rbf.fit(x_train, y_train).predict(x_test)))\n",
    "#print('Linear: ', 'R2 Score: ', metrics.r2_score(y_test, svr_lin.fit(x_train, y_train).predict(x_test)))\n",
    "#print('Polynomial: ', 'R2 Score: ', metrics.r2_score(y_test, svr_poly.fit(x_train, y_train).predict(x_test)))"
   ]
  },
  {
   "cell_type": "code",
   "execution_count": 8,
   "metadata": {
    "collapsed": true
   },
   "outputs": [],
   "source": [
    "y_rbf = svr_rbf.fit(x_train, y_train).predict(x_test)"
   ]
  },
  {
   "cell_type": "code",
   "execution_count": null,
   "metadata": {
    "collapsed": true
   },
   "outputs": [],
   "source": []
  }
 ],
 "metadata": {
  "anaconda-cloud": {},
  "kernelspec": {
   "display_name": "Python [default]",
   "language": "python",
   "name": "python3"
  },
  "language_info": {
   "codemirror_mode": {
    "name": "ipython",
    "version": 3
   },
   "file_extension": ".py",
   "mimetype": "text/x-python",
   "name": "python",
   "nbconvert_exporter": "python",
   "pygments_lexer": "ipython3",
   "version": "3.5.2"
  }
 },
 "nbformat": 4,
 "nbformat_minor": 1
}
