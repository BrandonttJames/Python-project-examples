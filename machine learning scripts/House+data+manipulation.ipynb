{
 "cells": [
  {
   "cell_type": "code",
   "execution_count": 1,
   "metadata": {
    "collapsed": false
   },
   "outputs": [
    {
     "data": {
      "text/html": [
       "<div>\n",
       "<table border=\"1\" class=\"dataframe\">\n",
       "  <thead>\n",
       "    <tr style=\"text-align: right;\">\n",
       "      <th></th>\n",
       "      <th>MSSubClass</th>\n",
       "      <th>MSZoning</th>\n",
       "      <th>LotFrontage</th>\n",
       "      <th>LotArea</th>\n",
       "      <th>Street</th>\n",
       "      <th>LotShape</th>\n",
       "      <th>LandContour</th>\n",
       "      <th>Utilities</th>\n",
       "      <th>LotConfig</th>\n",
       "      <th>LandSlope</th>\n",
       "      <th>...</th>\n",
       "      <th>GarageQual</th>\n",
       "      <th>GarageCond</th>\n",
       "      <th>PavedDrive</th>\n",
       "      <th>WoodDeckSF</th>\n",
       "      <th>OpenPorchSF</th>\n",
       "      <th>MiscVal</th>\n",
       "      <th>MoSold</th>\n",
       "      <th>YrSold</th>\n",
       "      <th>SaleType</th>\n",
       "      <th>SaleCondition</th>\n",
       "    </tr>\n",
       "  </thead>\n",
       "  <tbody>\n",
       "    <tr>\n",
       "      <th>0</th>\n",
       "      <td>60</td>\n",
       "      <td>RL</td>\n",
       "      <td>65.0</td>\n",
       "      <td>8450</td>\n",
       "      <td>Pave</td>\n",
       "      <td>Reg</td>\n",
       "      <td>Lvl</td>\n",
       "      <td>AllPub</td>\n",
       "      <td>Inside</td>\n",
       "      <td>Gtl</td>\n",
       "      <td>...</td>\n",
       "      <td>TA</td>\n",
       "      <td>TA</td>\n",
       "      <td>Y</td>\n",
       "      <td>0</td>\n",
       "      <td>61</td>\n",
       "      <td>0</td>\n",
       "      <td>2</td>\n",
       "      <td>2008</td>\n",
       "      <td>WD</td>\n",
       "      <td>Normal</td>\n",
       "    </tr>\n",
       "    <tr>\n",
       "      <th>1</th>\n",
       "      <td>20</td>\n",
       "      <td>RL</td>\n",
       "      <td>80.0</td>\n",
       "      <td>9600</td>\n",
       "      <td>Pave</td>\n",
       "      <td>Reg</td>\n",
       "      <td>Lvl</td>\n",
       "      <td>AllPub</td>\n",
       "      <td>FR2</td>\n",
       "      <td>Gtl</td>\n",
       "      <td>...</td>\n",
       "      <td>TA</td>\n",
       "      <td>TA</td>\n",
       "      <td>Y</td>\n",
       "      <td>298</td>\n",
       "      <td>0</td>\n",
       "      <td>0</td>\n",
       "      <td>5</td>\n",
       "      <td>2007</td>\n",
       "      <td>WD</td>\n",
       "      <td>Normal</td>\n",
       "    </tr>\n",
       "    <tr>\n",
       "      <th>2</th>\n",
       "      <td>60</td>\n",
       "      <td>RL</td>\n",
       "      <td>68.0</td>\n",
       "      <td>11250</td>\n",
       "      <td>Pave</td>\n",
       "      <td>IR1</td>\n",
       "      <td>Lvl</td>\n",
       "      <td>AllPub</td>\n",
       "      <td>Inside</td>\n",
       "      <td>Gtl</td>\n",
       "      <td>...</td>\n",
       "      <td>TA</td>\n",
       "      <td>TA</td>\n",
       "      <td>Y</td>\n",
       "      <td>0</td>\n",
       "      <td>42</td>\n",
       "      <td>0</td>\n",
       "      <td>9</td>\n",
       "      <td>2008</td>\n",
       "      <td>WD</td>\n",
       "      <td>Normal</td>\n",
       "    </tr>\n",
       "    <tr>\n",
       "      <th>3</th>\n",
       "      <td>70</td>\n",
       "      <td>RL</td>\n",
       "      <td>60.0</td>\n",
       "      <td>9550</td>\n",
       "      <td>Pave</td>\n",
       "      <td>IR1</td>\n",
       "      <td>Lvl</td>\n",
       "      <td>AllPub</td>\n",
       "      <td>Corner</td>\n",
       "      <td>Gtl</td>\n",
       "      <td>...</td>\n",
       "      <td>TA</td>\n",
       "      <td>TA</td>\n",
       "      <td>Y</td>\n",
       "      <td>0</td>\n",
       "      <td>35</td>\n",
       "      <td>0</td>\n",
       "      <td>2</td>\n",
       "      <td>2006</td>\n",
       "      <td>WD</td>\n",
       "      <td>Abnorml</td>\n",
       "    </tr>\n",
       "    <tr>\n",
       "      <th>4</th>\n",
       "      <td>60</td>\n",
       "      <td>RL</td>\n",
       "      <td>84.0</td>\n",
       "      <td>14260</td>\n",
       "      <td>Pave</td>\n",
       "      <td>IR1</td>\n",
       "      <td>Lvl</td>\n",
       "      <td>AllPub</td>\n",
       "      <td>FR2</td>\n",
       "      <td>Gtl</td>\n",
       "      <td>...</td>\n",
       "      <td>TA</td>\n",
       "      <td>TA</td>\n",
       "      <td>Y</td>\n",
       "      <td>192</td>\n",
       "      <td>84</td>\n",
       "      <td>0</td>\n",
       "      <td>12</td>\n",
       "      <td>2008</td>\n",
       "      <td>WD</td>\n",
       "      <td>Normal</td>\n",
       "    </tr>\n",
       "  </tbody>\n",
       "</table>\n",
       "<p>5 rows × 70 columns</p>\n",
       "</div>"
      ],
      "text/plain": [
       "   MSSubClass MSZoning  LotFrontage  LotArea Street LotShape LandContour  \\\n",
       "0          60       RL         65.0     8450   Pave      Reg         Lvl   \n",
       "1          20       RL         80.0     9600   Pave      Reg         Lvl   \n",
       "2          60       RL         68.0    11250   Pave      IR1         Lvl   \n",
       "3          70       RL         60.0     9550   Pave      IR1         Lvl   \n",
       "4          60       RL         84.0    14260   Pave      IR1         Lvl   \n",
       "\n",
       "  Utilities LotConfig LandSlope      ...      GarageQual GarageCond  \\\n",
       "0    AllPub    Inside       Gtl      ...              TA         TA   \n",
       "1    AllPub       FR2       Gtl      ...              TA         TA   \n",
       "2    AllPub    Inside       Gtl      ...              TA         TA   \n",
       "3    AllPub    Corner       Gtl      ...              TA         TA   \n",
       "4    AllPub       FR2       Gtl      ...              TA         TA   \n",
       "\n",
       "  PavedDrive WoodDeckSF OpenPorchSF  MiscVal  MoSold  YrSold  SaleType  \\\n",
       "0          Y          0          61        0       2    2008        WD   \n",
       "1          Y        298           0        0       5    2007        WD   \n",
       "2          Y          0          42        0       9    2008        WD   \n",
       "3          Y          0          35        0       2    2006        WD   \n",
       "4          Y        192          84        0      12    2008        WD   \n",
       "\n",
       "  SaleCondition  \n",
       "0        Normal  \n",
       "1        Normal  \n",
       "2        Normal  \n",
       "3       Abnorml  \n",
       "4        Normal  \n",
       "\n",
       "[5 rows x 70 columns]"
      ]
     },
     "execution_count": 1,
     "metadata": {},
     "output_type": "execute_result"
    }
   ],
   "source": [
    "#this script was for manipulating data and features within the data set\n",
    "#the data set was used to train learning algorithms on so that we could predict house prices based on given observations\n",
    "#this was my final assignment for machine learning\n",
    "\n",
    "import pandas as pd\n",
    "data = pd.read_csv('houseTrain.csv', low_memory=False)\n",
    "\n",
    "#dropped features with lots of missing data\n",
    "trainData = data.drop(['Id','Alley','PoolQC','Fence','MiscFeature','LowQualFinSF','EnclosedPorch','3SsnPorch','ScreenPorch','PoolArea','SalePrice'],1)\n",
    "trainData.head()"
   ]
  },
  {
   "cell_type": "code",
   "execution_count": 2,
   "metadata": {
    "collapsed": true
   },
   "outputs": [],
   "source": [
    "#header names to convert from strings to classes\n",
    "headerNames = ['MSZoning','Street','LotShape','LandContour','Utilities','LotConfig','LandSlope','Neighborhood','Condition1','Condition2','BldgType','HouseStyle','RoofStyle','RoofMatl','Exterior1st','Exterior2nd','MasVnrType','ExterQual','ExterCond','Foundation','BsmtQual','BsmtCond','BsmtExposure','BsmtFinType1','BsmtFinType2','Heating','HeatingQC','CentralAir','Electrical','KitchenQual','Functional','FireplaceQu','GarageType','GarageFinish','GarageQual','GarageCond','PavedDrive','MiscVal','MoSold','SaleType','SaleCondition']"
   ]
  },
  {
   "cell_type": "code",
   "execution_count": 3,
   "metadata": {
    "collapsed": false
   },
   "outputs": [],
   "source": [
    "#drop all observations with missing data so that it does not conflict with conversion\n",
    "trainDataWithoutMissing = trainData.dropna()\n",
    "trainDataWithoutMissing.reset_index(inplace=True)"
   ]
  },
  {
   "cell_type": "code",
   "execution_count": 7,
   "metadata": {
    "collapsed": false,
    "scrolled": false
   },
   "outputs": [
    {
     "name": "stdout",
     "output_type": "stream",
     "text": [
      "Col:  0\n"
     ]
    },
    {
     "name": "stderr",
     "output_type": "stream",
     "text": [
      "C:\\Users\\Brandon\\Anaconda3\\lib\\site-packages\\ipykernel\\__main__.py:9: SettingWithCopyWarning: \n",
      "A value is trying to be set on a copy of a slice from a DataFrame\n",
      "\n",
      "See the caveats in the documentation: http://pandas.pydata.org/pandas-docs/stable/indexing.html#indexing-view-versus-copy\n"
     ]
    },
    {
     "name": "stdout",
     "output_type": "stream",
     "text": [
      "Col:  1\n",
      "Col:  2\n",
      "Col:  3\n",
      "Col:  4\n",
      "Col:  5\n",
      "Col:  6\n",
      "Col:  7\n",
      "Col:  8\n",
      "Col:  9\n",
      "Col:  10\n",
      "Col:  11\n",
      "Col:  12\n",
      "Col:  13\n",
      "Col:  14\n",
      "Col:  15\n",
      "Col:  16\n",
      "Col:  17\n",
      "Col:  18\n",
      "Col:  19\n",
      "Col:  20\n",
      "Col:  21\n",
      "Col:  22\n",
      "Col:  23\n",
      "Col:  24\n",
      "Col:  25\n",
      "Col:  26\n",
      "Col:  27\n",
      "Col:  28\n",
      "Col:  29\n",
      "Col:  30\n",
      "Col:  31\n",
      "Col:  32\n",
      "Col:  33\n",
      "Col:  34\n",
      "Col:  35\n",
      "Col:  36\n",
      "Col:  37\n",
      "Col:  38\n",
      "Col:  39\n",
      "Col:  40\n"
     ]
    }
   ],
   "source": [
    "#converts all strings into classes by ints\n",
    "strings = []\n",
    "\n",
    "for i in range(len(headerNames)):\n",
    "    col = trainData[headerNames[i]]\n",
    "    print('Col: ', i)\n",
    "    for j in range(len(col)):\n",
    "        if(col[j] not in strings):\n",
    "            strings.append(col[j])\n",
    "        trainData[headerNames[i]][j] = strings.index(trainData[headerNames[i]][j]) + 1\n",
    "    strings = []"
   ]
  },
  {
   "cell_type": "code",
   "execution_count": null,
   "metadata": {
    "collapsed": false
   },
   "outputs": [],
   "source": [
    "#tried to normalize years\n",
    "from sklearn import preprocessing\n",
    "\n",
    "normYearBuilt = preprocessing.normalize(trainDataWithoutMissing[\"YearBuilt\"], norm='max')\n",
    "normYearRe = preprocessing.normalize(trainDataWithoutMissing[\"YearRemodAdd\"], norm='max')\n",
    "normGarageYrBlt = preprocessing.normalize(trainDataWithoutMissing[\"GarageYrBlt\"], norm='max')\n",
    "normYearSold = preprocessing.normalize(trainDataWithoutMissing[\"YrSold\"], norm='max')"
   ]
  },
  {
   "cell_type": "code",
   "execution_count": null,
   "metadata": {
    "collapsed": false
   },
   "outputs": [],
   "source": [
    "#insert normalized data back into dataframe\n",
    "for i in range(len(trainDataWithoutMissing['YearBuilt'])):\n",
    "    trainData['YearBuilt'][i] = normYearBuilt[0][i]\n",
    "\n",
    "for i in range(len(trainDataWithoutMissing['YearRemodAdd'])):\n",
    "    trainData['YearRemodAdd'][i] = normYearRe[0][i]\n",
    "\n",
    "for i in range(len(trainDataWithoutMissing['GarageYrBlt'])):\n",
    "    trainData['GarageYrBlt'][i] = normGarageYrBlt[0][i]\n",
    "    \n",
    "for i in range(len(trainDataWithoutMissing['YrSold'])):\n",
    "    trainData['YrSold'][i] = normYearSold [0][i]"
   ]
  },
  {
   "cell_type": "code",
   "execution_count": null,
   "metadata": {
    "collapsed": true
   },
   "outputs": [],
   "source": [
    "#drop same features for the target for dropna to spit out matching targets for the observations\n",
    "targetData = data.drop(['Id','Alley','PoolQC','Fence','MiscFeature','LowQualFinSF','EnclosedPorch','3SsnPorch','ScreenPorch','PoolArea'],1)\n",
    "targetData = targetData.dropna()\n",
    "targetData.reset_index(inplace=True)\n",
    "target = targetData[\"SalePrice\"]"
   ]
  },
  {
   "cell_type": "code",
   "execution_count": null,
   "metadata": {
    "collapsed": true
   },
   "outputs": [],
   "source": [
    "#dropped year features\n",
    "finalData = trainDataWithoutMissing.drop(['YearRemodAdd',\"YrSold\",\"YearBuilt\",\"GarageYrBlt\"],1)"
   ]
  },
  {
   "cell_type": "code",
   "execution_count": null,
   "metadata": {
    "collapsed": true
   },
   "outputs": [],
   "source": [
    "from sklearn.preprocessing import PolynomialFeatures\n",
    "import statsmodels.api as sm\n",
    "import statsmodels.formula.api as smf\n",
    "import numpy as np\n",
    "from sklearn import linear_model"
   ]
  },
  {
   "cell_type": "code",
   "execution_count": null,
   "metadata": {
    "collapsed": false,
    "scrolled": true
   },
   "outputs": [],
   "source": [
    "#testing accuracy on same dataset that we trained the model on\n",
    "X1 = PolynomialFeatures(1).fit_transform(finalData)\n",
    "pred = PolynomialFeatures(1).fit_transform(finalData)\n",
    "clf = linear_model.LinearRegression()\n",
    "clf.fit(X1, target)\n",
    "print(metrics.r2_score(target, clf.predict(pred)))"
   ]
  },
  {
   "cell_type": "code",
   "execution_count": null,
   "metadata": {
    "collapsed": false
   },
   "outputs": [],
   "source": [
    "X2 = PolynomialFeatures(2).fit_transform(finalData)\n",
    "pred2 = PolynomialFeatures(2).fit_transform(finalData)\n",
    "clf.fit(X2, target)\n",
    "print(metrics.r2_score(target, clf.predict(pred2)))"
   ]
  },
  {
   "cell_type": "code",
   "execution_count": null,
   "metadata": {
    "collapsed": false
   },
   "outputs": [],
   "source": [
    "#grab test data from kaggle\n",
    "testData = pd.read_csv('houseTest.csv', low_memory=False)"
   ]
  },
  {
   "cell_type": "code",
   "execution_count": null,
   "metadata": {
    "collapsed": false
   },
   "outputs": [],
   "source": [
    "testData.head()"
   ]
  },
  {
   "cell_type": "code",
   "execution_count": null,
   "metadata": {
    "collapsed": false
   },
   "outputs": [],
   "source": [
    "#drop same features as training data\n",
    "testData2 = testData.drop(['Id','Alley','PoolQC','Fence','MiscFeature','LowQualFinSF','EnclosedPorch','3SsnPorch','ScreenPorch','PoolArea'],1)\n",
    "finalTest = testData2.drop(['YearRemodAdd',\"YrSold\"],1)\n",
    "finalTest = finalTest.dropna()"
   ]
  },
  {
   "cell_type": "code",
   "execution_count": null,
   "metadata": {
    "collapsed": false
   },
   "outputs": [],
   "source": [
    "#convert strings into classes by int\n",
    "finalTest.reset_index(inplace=True)\n",
    "strings = []\n",
    "\n",
    "for i in range(len(headerNames)):\n",
    "    col = finalTest[headerNames[i]]\n",
    "    for j in range(len(col)):\n",
    "        if(col[j] not in strings):\n",
    "            strings.append(col[j])\n",
    "        finalTest[headerNames[i]][j] = strings.index(finalTest[headerNames[i]][j]) + 1\n",
    "    strings = []"
   ]
  },
  {
   "cell_type": "code",
   "execution_count": null,
   "metadata": {
    "collapsed": true
   },
   "outputs": [],
   "source": [
    "#dropped year features\n",
    "finalTest = finalTest.drop(['YearBuilt',\"GarageYrBlt\"],1)"
   ]
  },
  {
   "cell_type": "code",
   "execution_count": null,
   "metadata": {
    "collapsed": false
   },
   "outputs": [],
   "source": [
    "#export csv files\n",
    "finalData.to_csv(path_or_buf='finalData.csv')\n",
    "finalTest.to_csv(path_or_buf='finalTest.csv')"
   ]
  },
  {
   "cell_type": "code",
   "execution_count": null,
   "metadata": {
    "collapsed": false
   },
   "outputs": [],
   "source": []
  },
  {
   "cell_type": "code",
   "execution_count": null,
   "metadata": {
    "collapsed": true
   },
   "outputs": [],
   "source": []
  }
 ],
 "metadata": {
  "anaconda-cloud": {},
  "kernelspec": {
   "display_name": "Python [default]",
   "language": "python",
   "name": "python3"
  },
  "language_info": {
   "codemirror_mode": {
    "name": "ipython",
    "version": 3
   },
   "file_extension": ".py",
   "mimetype": "text/x-python",
   "name": "python",
   "nbconvert_exporter": "python",
   "pygments_lexer": "ipython3",
   "version": "3.5.2"
  }
 },
 "nbformat": 4,
 "nbformat_minor": 1
}
